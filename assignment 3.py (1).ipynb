{
 "cells": [
  {
   "cell_type": "markdown",
   "id": "629bf887",
   "metadata": {},
   "source": [
    "Question 1"
   ]
  },
  {
   "cell_type": "code",
   "execution_count": 1,
   "id": "736939ea",
   "metadata": {},
   "outputs": [],
   "source": [
    "# 'def' keyword  is used to create a function"
   ]
  },
  {
   "cell_type": "code",
   "execution_count": 2,
   "id": "3c870334",
   "metadata": {},
   "outputs": [],
   "source": [
    "def my_function():\n",
    "    l=[]\n",
    "    for i in range(25):\n",
    "        if i%2!=0:\n",
    "            l.append(i)\n",
    "            \n",
    "    return l       \n",
    "            \n",
    "        \n",
    "    \n",
    "        "
   ]
  },
  {
   "cell_type": "code",
   "execution_count": 3,
   "id": "a6fb1fab",
   "metadata": {},
   "outputs": [
    {
     "data": {
      "text/plain": [
       "[1, 3, 5, 7, 9, 11, 13, 15, 17, 19, 21, 23]"
      ]
     },
     "execution_count": 3,
     "metadata": {},
     "output_type": "execute_result"
    }
   ],
   "source": [
    "my_function()   "
   ]
  },
  {
   "cell_type": "markdown",
   "id": "3d9a53ad",
   "metadata": {},
   "source": [
    "# Question 2"
   ]
  },
  {
   "cell_type": "code",
   "execution_count": 4,
   "id": "594e5708",
   "metadata": {},
   "outputs": [],
   "source": [
    "# when write a function ,we often need to pass values to the function .these values are called arguments.\n",
    "# you can use *args and **kwargs as an arguments in a function when you are unsure about the number of arguments to pass in the function"
   ]
  },
  {
   "cell_type": "code",
   "execution_count": null,
   "id": "360faff0",
   "metadata": {},
   "outputs": [],
   "source": []
  },
  {
   "cell_type": "code",
   "execution_count": 5,
   "id": "9724a42c",
   "metadata": {},
   "outputs": [
    {
     "name": "stdout",
     "output_type": "stream",
     "text": [
      "5\n"
     ]
    }
   ],
   "source": [
    "def add(*numbers):\n",
    "    total = 0\n",
    "    for num in numbers:\n",
    "        total += num\n",
    "    return total\n",
    "\n",
    "\n",
    "print(add(2, 3))\n",
    "    "
   ]
  },
  {
   "cell_type": "code",
   "execution_count": 6,
   "id": "ad5d0ce1",
   "metadata": {},
   "outputs": [
    {
     "name": "stdout",
     "output_type": "stream",
     "text": [
      "20\n"
     ]
    }
   ],
   "source": [
    "def total_fruits(**fruits):\n",
    "    total = 0\n",
    "    for amount in fruits.values():\n",
    "        total += amount\n",
    "    return total\n",
    "\n",
    "\n",
    "print(total_fruits(banana=5, mango=7, apple=8))"
   ]
  },
  {
   "cell_type": "code",
   "execution_count": 7,
   "id": "917286ed",
   "metadata": {},
   "outputs": [
    {
     "data": {
      "text/plain": [
       "20"
      ]
     },
     "execution_count": 7,
     "metadata": {},
     "output_type": "execute_result"
    }
   ],
   "source": [
    "total_fruits(banana=5, mango=7, apple=8)"
   ]
  },
  {
   "cell_type": "markdown",
   "id": "e3bafd20",
   "metadata": {},
   "source": [
    "Question 3"
   ]
  },
  {
   "cell_type": "code",
   "execution_count": 8,
   "id": "8362c072",
   "metadata": {},
   "outputs": [],
   "source": [
    "# An iterator is an objects that contains countable number of values\n",
    "# An iterator is an object which iterate over iterable objects like List,Tuple,dict,sets,and ets\n",
    "# the python iterator object is initialized using \"iter()\" method.it uses the next() method for iteration"
   ]
  },
  {
   "cell_type": "code",
   "execution_count": 9,
   "id": "5787ffcf",
   "metadata": {},
   "outputs": [],
   "source": [
    "l=[2,4,6,8,10,12,14,16,18,20]\n",
    "list=iter(l)\n",
    "\n",
    "    \n"
   ]
  },
  {
   "cell_type": "code",
   "execution_count": 10,
   "id": "147d171b",
   "metadata": {},
   "outputs": [
    {
     "name": "stdout",
     "output_type": "stream",
     "text": [
      "2\n"
     ]
    }
   ],
   "source": [
    "print(next(list))"
   ]
  },
  {
   "cell_type": "code",
   "execution_count": 11,
   "id": "b54fafcd",
   "metadata": {},
   "outputs": [
    {
     "name": "stdout",
     "output_type": "stream",
     "text": [
      "4\n"
     ]
    }
   ],
   "source": [
    "print(next(list))"
   ]
  },
  {
   "cell_type": "code",
   "execution_count": 12,
   "id": "147014d3",
   "metadata": {},
   "outputs": [
    {
     "name": "stdout",
     "output_type": "stream",
     "text": [
      "6\n"
     ]
    }
   ],
   "source": [
    "print(next(list))"
   ]
  },
  {
   "cell_type": "code",
   "execution_count": 13,
   "id": "970e010f",
   "metadata": {},
   "outputs": [
    {
     "name": "stdout",
     "output_type": "stream",
     "text": [
      "8\n"
     ]
    }
   ],
   "source": [
    "print(next(list))"
   ]
  },
  {
   "cell_type": "code",
   "execution_count": 14,
   "id": "18e6d26f",
   "metadata": {},
   "outputs": [
    {
     "name": "stdout",
     "output_type": "stream",
     "text": [
      "10\n"
     ]
    }
   ],
   "source": [
    "print(next(list))"
   ]
  },
  {
   "cell_type": "markdown",
   "id": "7c1b21e4",
   "metadata": {},
   "source": [
    "Question 4"
   ]
  },
  {
   "cell_type": "code",
   "execution_count": 15,
   "id": "b756d728",
   "metadata": {},
   "outputs": [],
   "source": [
    "# generator function in python id define like a normal function but whenever it need to generate a value\n",
    "# it does so with the 'yield keyword'rather than return.\n"
   ]
  },
  {
   "cell_type": "code",
   "execution_count": 79,
   "id": "106b0cc6",
   "metadata": {},
   "outputs": [
    {
     "name": "stdout",
     "output_type": "stream",
     "text": [
      "3\n",
      "5\n",
      "7\n",
      "11\n",
      "13\n",
      "17\n",
      "19\n",
      "23\n",
      "29\n",
      "31\n",
      "37\n",
      "41\n",
      "43\n",
      "47\n",
      "53\n"
     ]
    }
   ],
   "source": [
    "def primeFunction():\n",
    "    prime=None\n",
    "    num = 1\n",
    "    while True:\n",
    "        num = num + 1\n",
    "  \n",
    "        for i in range(2, num): \n",
    "            if(num % i) == 0:\n",
    "                prime=False\n",
    "                break\n",
    "            else:\n",
    "                prime = True\n",
    "  \n",
    "        if prime:\n",
    "              yield num\n",
    "  \n",
    "def main():\n",
    "      prime = primeFunction()\n",
    "      for i in prime:\n",
    "        print(i)\n",
    "        if i > 50:\n",
    "            break\n",
    "  \n",
    "if __name__ == \"__main__\":\n",
    "    main()\n",
    "\n",
    "\n"
   ]
  },
  {
   "cell_type": "markdown",
   "id": "cd3c605c",
   "metadata": {},
   "source": [
    "Question 5"
   ]
  },
  {
   "cell_type": "code",
   "execution_count": 8,
   "id": "218057fd",
   "metadata": {},
   "outputs": [
    {
     "ename": "TypeError",
     "evalue": "nextprime() takes 0 positional arguments but 1 was given",
     "output_type": "error",
     "traceback": [
      "\u001b[1;31m---------------------------------------------------------------------------\u001b[0m",
      "\u001b[1;31mTypeError\u001b[0m                                 Traceback (most recent call last)",
      "Cell \u001b[1;32mIn[8], line 9\u001b[0m\n\u001b[0;32m      7\u001b[0m         \u001b[38;5;28;01melse\u001b[39;00m:\n\u001b[0;32m      8\u001b[0m             \u001b[38;5;28;01mreturn\u001b[39;00m i\n\u001b[1;32m----> 9\u001b[0m \u001b[38;5;28mprint\u001b[39m(\u001b[43mnextprime\u001b[49m\u001b[43m(\u001b[49m\u001b[38;5;241;43m11\u001b[39;49m\u001b[43m)\u001b[49m)\n",
      "\u001b[1;31mTypeError\u001b[0m: nextprime() takes 0 positional arguments but 1 was given"
     ]
    }
   ],
   "source": [
    "\n",
    "def nextprime():\n",
    "    n+=1\n",
    "    for i in range(2,1000):\n",
    "        if i%2==0: \n",
    "            break\n",
    "        else:\n",
    "            return i\n",
    "print(nextprime(11))        \n",
    "            \n",
    "            \n",
    "        \n",
    "            \n",
    "            "
   ]
  },
  {
   "cell_type": "markdown",
   "id": "b0012d93",
   "metadata": {},
   "source": [
    "Question 6"
   ]
  },
  {
   "cell_type": "code",
   "execution_count": 15,
   "id": "57522320",
   "metadata": {},
   "outputs": [],
   "source": [
    "def fibo(n):\n",
    "    a,b=0,1\n",
    "    while n<11:\n",
    "        yield a\n",
    "        a,b=b,a+b\n",
    "        \n",
    "        "
   ]
  },
  {
   "cell_type": "code",
   "execution_count": 16,
   "id": "6dcd6c56",
   "metadata": {},
   "outputs": [
    {
     "name": "stdout",
     "output_type": "stream",
     "text": [
      "0\n",
      "1\n",
      "1\n",
      "2\n",
      "3\n",
      "5\n",
      "8\n",
      "13\n",
      "21\n",
      "34\n"
     ]
    }
   ],
   "source": [
    "fi=fibo(10)\n",
    "for i in range(10):\n",
    "    print(next(fi))"
   ]
  },
  {
   "cell_type": "markdown",
   "id": "bce1d4b4",
   "metadata": {},
   "source": [
    "question7"
   ]
  },
  {
   "cell_type": "code",
   "execution_count": 18,
   "id": "c4c3eedc",
   "metadata": {},
   "outputs": [],
   "source": [
    "mystring=[i for i in 'pwskills']"
   ]
  },
  {
   "cell_type": "code",
   "execution_count": 19,
   "id": "c2f38ddf",
   "metadata": {},
   "outputs": [
    {
     "data": {
      "text/plain": [
       "['p', 'w', 's', 'k', 'i', 'l', 'l', 's']"
      ]
     },
     "execution_count": 19,
     "metadata": {},
     "output_type": "execute_result"
    }
   ],
   "source": [
    "mystring"
   ]
  },
  {
   "cell_type": "markdown",
   "id": "5e5f7fef",
   "metadata": {},
   "source": [
    "Question 9"
   ]
  },
  {
   "cell_type": "code",
   "execution_count": null,
   "id": "fc4a3681",
   "metadata": {},
   "outputs": [],
   "source": [
